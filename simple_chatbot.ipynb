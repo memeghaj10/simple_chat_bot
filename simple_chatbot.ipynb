{
 "cells": [
  {
   "cell_type": "code",
   "execution_count": 1,
   "metadata": {},
   "outputs": [
    {
     "name": "stdout",
     "output_type": "stream",
     "text": [
      "Requirement already satisfied: numpy in d:\\anaconda3\\lib\\site-packages (1.16.5)\n",
      "Note: you may need to restart the kernel to use updated packages.\n"
     ]
    }
   ],
   "source": [
    "pip install numpy"
   ]
  },
  {
   "cell_type": "code",
   "execution_count": 2,
   "metadata": {
    "scrolled": true
   },
   "outputs": [
    {
     "name": "stdout",
     "output_type": "stream",
     "text": [
      "Requirement already satisfied: nltk in d:\\anaconda3\\lib\\site-packages (3.4.5)\n",
      "Requirement already satisfied: six in c:\\users\\meghaj singh\\appdata\\roaming\\python\\python37\\site-packages (from nltk) (1.12.0)\n",
      "Note: you may need to restart the kernel to use updated packages.\n"
     ]
    }
   ],
   "source": [
    "pip install nltk"
   ]
  },
  {
   "cell_type": "code",
   "execution_count": 3,
   "metadata": {},
   "outputs": [
    {
     "name": "stdout",
     "output_type": "stream",
     "text": [
      "Requirement already satisfied: tflearn in d:\\anaconda3\\lib\\site-packages (0.3.2)\n",
      "Requirement already satisfied: six in c:\\users\\meghaj singh\\appdata\\roaming\\python\\python37\\site-packages (from tflearn) (1.12.0)\n",
      "Requirement already satisfied: numpy in d:\\anaconda3\\lib\\site-packages (from tflearn) (1.16.5)\n",
      "Requirement already satisfied: Pillow in d:\\anaconda3\\lib\\site-packages (from tflearn) (6.2.0)\n",
      "Note: you may need to restart the kernel to use updated packages.\n"
     ]
    }
   ],
   "source": [
    "pip install tflearn"
   ]
  },
  {
   "cell_type": "code",
   "execution_count": 4,
   "metadata": {},
   "outputs": [
    {
     "name": "stdout",
     "output_type": "stream",
     "text": [
      "Requirement already satisfied: tensorflow==1.14 in d:\\anaconda3\\lib\\site-packages (1.14.0)\n",
      "Requirement already satisfied: six>=1.10.0 in c:\\users\\meghaj singh\\appdata\\roaming\\python\\python37\\site-packages (from tensorflow==1.14) (1.12.0)\n",
      "Requirement already satisfied: grpcio>=1.8.6 in d:\\anaconda3\\lib\\site-packages (from tensorflow==1.14) (1.28.1)\n",
      "Requirement already satisfied: tensorflow-estimator<1.15.0rc0,>=1.14.0rc0 in d:\\anaconda3\\lib\\site-packages (from tensorflow==1.14) (1.14.0)\n",
      "Requirement already satisfied: astor>=0.6.0 in d:\\anaconda3\\lib\\site-packages (from tensorflow==1.14) (0.8.1)\n",
      "Requirement already satisfied: tensorboard<1.15.0,>=1.14.0 in d:\\anaconda3\\lib\\site-packages (from tensorflow==1.14) (1.14.0)\n",
      "Requirement already satisfied: keras-preprocessing>=1.0.5 in d:\\anaconda3\\lib\\site-packages (from tensorflow==1.14) (1.1.0)\n",
      "Requirement already satisfied: wrapt>=1.11.1 in c:\\users\\meghaj singh\\appdata\\roaming\\python\\python37\\site-packages (from tensorflow==1.14) (1.11.2)\n",
      "Requirement already satisfied: protobuf>=3.6.1 in d:\\anaconda3\\lib\\site-packages (from tensorflow==1.14) (3.11.3)\n",
      "Requirement already satisfied: wheel>=0.26 in d:\\anaconda3\\lib\\site-packages (from tensorflow==1.14) (0.33.6)\n",
      "Requirement already satisfied: keras-applications>=1.0.6 in d:\\anaconda3\\lib\\site-packages (from tensorflow==1.14) (1.0.8)\n",
      "Requirement already satisfied: absl-py>=0.7.0 in d:\\anaconda3\\lib\\site-packages (from tensorflow==1.14) (0.9.0)\n",
      "Requirement already satisfied: gast>=0.2.0 in d:\\anaconda3\\lib\\site-packages (from tensorflow==1.14) (0.3.3)\n",
      "Requirement already satisfied: google-pasta>=0.1.6 in d:\\anaconda3\\lib\\site-packages (from tensorflow==1.14) (0.2.0)\n",
      "Requirement already satisfied: numpy<2.0,>=1.14.5 in d:\\anaconda3\\lib\\site-packages (from tensorflow==1.14) (1.16.5)\n",
      "Requirement already satisfied: termcolor>=1.1.0 in d:\\anaconda3\\lib\\site-packages (from tensorflow==1.14) (1.1.0)\n",
      "Requirement already satisfied: markdown>=2.6.8 in d:\\anaconda3\\lib\\site-packages (from tensorboard<1.15.0,>=1.14.0->tensorflow==1.14) (3.2.2)\n",
      "Requirement already satisfied: setuptools>=41.0.0 in d:\\anaconda3\\lib\\site-packages (from tensorboard<1.15.0,>=1.14.0->tensorflow==1.14) (45.2.0)\n",
      "Requirement already satisfied: werkzeug>=0.11.15 in d:\\anaconda3\\lib\\site-packages (from tensorboard<1.15.0,>=1.14.0->tensorflow==1.14) (0.16.0)\n",
      "Requirement already satisfied: h5py in d:\\anaconda3\\lib\\site-packages (from keras-applications>=1.0.6->tensorflow==1.14) (2.10.0)\n",
      "Requirement already satisfied: importlib-metadata; python_version < \"3.8\" in d:\\anaconda3\\lib\\site-packages (from markdown>=2.6.8->tensorboard<1.15.0,>=1.14.0->tensorflow==1.14) (0.23)\n",
      "Requirement already satisfied: zipp>=0.5 in d:\\anaconda3\\lib\\site-packages (from importlib-metadata; python_version < \"3.8\"->markdown>=2.6.8->tensorboard<1.15.0,>=1.14.0->tensorflow==1.14) (0.6.0)\n",
      "Requirement already satisfied: more-itertools in d:\\anaconda3\\lib\\site-packages (from zipp>=0.5->importlib-metadata; python_version < \"3.8\"->markdown>=2.6.8->tensorboard<1.15.0,>=1.14.0->tensorflow==1.14) (7.2.0)\n",
      "Note: you may need to restart the kernel to use updated packages.\n"
     ]
    }
   ],
   "source": [
    "pip install tensorflow==1.14"
   ]
  },
  {
   "cell_type": "code",
   "execution_count": 5,
   "metadata": {},
   "outputs": [
    {
     "name": "stdout",
     "output_type": "stream",
     "text": [
      "curses is not supported on this machine (please install/reinstall curses for an optimal experience)\n",
      "WARNING:tensorflow:From D:\\Anaconda3\\lib\\site-packages\\tflearn\\helpers\\summarizer.py:9: The name tf.summary.merge is deprecated. Please use tf.compat.v1.summary.merge instead.\n",
      "\n",
      "WARNING:tensorflow:From D:\\Anaconda3\\lib\\site-packages\\tflearn\\helpers\\trainer.py:25: The name tf.summary.FileWriter is deprecated. Please use tf.compat.v1.summary.FileWriter instead.\n",
      "\n",
      "WARNING:tensorflow:From D:\\Anaconda3\\lib\\site-packages\\tflearn\\collections.py:13: The name tf.GraphKeys is deprecated. Please use tf.compat.v1.GraphKeys instead.\n",
      "\n",
      "WARNING:tensorflow:From D:\\Anaconda3\\lib\\site-packages\\tflearn\\config.py:123: The name tf.get_collection is deprecated. Please use tf.compat.v1.get_collection instead.\n",
      "\n",
      "WARNING:tensorflow:From D:\\Anaconda3\\lib\\site-packages\\tflearn\\config.py:129: The name tf.add_to_collection is deprecated. Please use tf.compat.v1.add_to_collection instead.\n",
      "\n",
      "WARNING:tensorflow:From D:\\Anaconda3\\lib\\site-packages\\tflearn\\config.py:131: The name tf.assign is deprecated. Please use tf.compat.v1.assign instead.\n",
      "\n"
     ]
    }
   ],
   "source": [
    "#making important imports and loading the json data\n",
    "import nltk \n",
    "from nltk.stem.lancaster import LancasterStemmer\n",
    "stemmer=LancasterStemmer()\n",
    "\n",
    "import numpy\n",
    "import tflearn\n",
    "import tensorflow\n",
    "import random\n",
    "\n",
    "import json \n",
    "with open('intents.json') as file:\n",
    "    data=json.load(file)"
   ]
  },
  {
   "cell_type": "code",
   "execution_count": 6,
   "metadata": {},
   "outputs": [],
   "source": [
    "#extracting data\n",
    "words=[]\n",
    "labels=[]\n",
    "docs_x=[]\n",
    "docs_y=[]"
   ]
  },
  {
   "cell_type": "code",
   "execution_count": 7,
   "metadata": {},
   "outputs": [],
   "source": [
    "#turning into a list of words \n",
    "for intent in data['intents']:\n",
    "    for pattern in intent['patterns']:\n",
    "        wrds=nltk.word_tokenize(pattern)\n",
    "        words.extend(wrds)\n",
    "        docs_x.append(wrds)\n",
    "        docs_y.append(intent[\"tag\"])\n",
    "        \n",
    "    if intent['tag'] not in labels:\n",
    "        labels.append(intent['tag'])"
   ]
  },
  {
   "cell_type": "code",
   "execution_count": 8,
   "metadata": {},
   "outputs": [],
   "source": [
    "#Stemming of words to reduce the vocabulary of the model\n",
    "words=[stemmer.stem(w.lower()) for w in words if w!= \"?\"]\n",
    "words=sorted(list(set(words)))\n",
    "\n",
    "labels=sorted(labels)"
   ]
  },
  {
   "cell_type": "code",
   "execution_count": 9,
   "metadata": {},
   "outputs": [],
   "source": [
    "#creating a bag of words\n",
    "training=[]\n",
    "output=[]\n",
    "\n",
    "out_empty = [0 for _ in range(len(labels))]\n",
    "\n",
    "for x, doc in enumerate(docs_x):\n",
    "    bag=[]\n",
    "    \n",
    "    wrds=[stemmer.stem(w.lower()) for w in doc]\n",
    "    \n",
    "    for w in words:\n",
    "        if w in words:\n",
    "            bag.append(1)\n",
    "        else:\n",
    "            bag.append(0)\n",
    "            \n",
    "    output_row=out_empty[:]\n",
    "    output_row[labels.index(docs_y[x])]=1\n",
    "    \n",
    "    training.append(bag)\n",
    "    output.append(output_row)"
   ]
  },
  {
   "cell_type": "code",
   "execution_count": 10,
   "metadata": {},
   "outputs": [],
   "source": [
    "#finally we will convert our training data and output to numpy arrays\n",
    "training = numpy.array(training)\n",
    "output=numpy.array(output)"
   ]
  },
  {
   "cell_type": "code",
   "execution_count": 11,
   "metadata": {},
   "outputs": [
    {
     "name": "stdout",
     "output_type": "stream",
     "text": [
      "WARNING:tensorflow:From D:\\Anaconda3\\lib\\site-packages\\tflearn\\layers\\core.py:81: The name tf.placeholder is deprecated. Please use tf.compat.v1.placeholder instead.\n",
      "\n",
      "WARNING:tensorflow:From D:\\Anaconda3\\lib\\site-packages\\tflearn\\initializations.py:174: calling TruncatedNormal.__init__ (from tensorflow.python.ops.init_ops) with dtype is deprecated and will be removed in a future version.\n",
      "Instructions for updating:\n",
      "Call initializer instance with the dtype argument instead of passing it to the constructor\n",
      "WARNING:tensorflow:From D:\\Anaconda3\\lib\\site-packages\\tflearn\\optimizers.py:238: The name tf.train.AdamOptimizer is deprecated. Please use tf.compat.v1.train.AdamOptimizer instead.\n",
      "\n",
      "WARNING:tensorflow:From D:\\Anaconda3\\lib\\site-packages\\tflearn\\objectives.py:66: calling reduce_sum_v1 (from tensorflow.python.ops.math_ops) with keep_dims is deprecated and will be removed in a future version.\n",
      "Instructions for updating:\n",
      "keep_dims is deprecated, use keepdims instead\n",
      "WARNING:tensorflow:From D:\\Anaconda3\\lib\\site-packages\\tflearn\\summaries.py:46: The name tf.summary.scalar is deprecated. Please use tf.compat.v1.summary.scalar instead.\n",
      "\n",
      "WARNING:tensorflow:From D:\\Anaconda3\\lib\\site-packages\\tensorflow\\python\\ops\\math_grad.py:1250: add_dispatch_support.<locals>.wrapper (from tensorflow.python.ops.array_ops) is deprecated and will be removed in a future version.\n",
      "Instructions for updating:\n",
      "Use tf.where in 2.0, which has the same broadcast rule as np.where\n",
      "WARNING:tensorflow:From D:\\Anaconda3\\lib\\site-packages\\tflearn\\helpers\\trainer.py:134: The name tf.train.Saver is deprecated. Please use tf.compat.v1.train.Saver instead.\n",
      "\n"
     ]
    }
   ],
   "source": [
    "#developing the model\n",
    "tensorflow.reset_default_graph()\n",
    "net=tflearn.input_data(shape=[None,len(training[0])])\n",
    "net=tflearn.fully_connected(net,8)\n",
    "net=tflearn.fully_connected(net,8)\n",
    "net=tflearn.fully_connected(net,len(output[0]),activation=\"softmax\")\n",
    "net=tflearn.regression(net)\n",
    "\n",
    "model=tflearn.DNN(net)"
   ]
  },
  {
   "cell_type": "code",
   "execution_count": 12,
   "metadata": {},
   "outputs": [
    {
     "name": "stdout",
     "output_type": "stream",
     "text": [
      "Training Step: 3999  | total loss: \u001b[1m\u001b[32m1.76059\u001b[0m\u001b[0m | time: 0.012s\n",
      "| Adam | epoch: 1000 | loss: 1.76059 - acc: 0.2550 -- iter: 24/26\n",
      "Training Step: 4000  | total loss: \u001b[1m\u001b[32m1.77056\u001b[0m\u001b[0m | time: 0.014s\n",
      "| Adam | epoch: 1000 | loss: 1.77056 - acc: 0.2295 -- iter: 26/26\n",
      "--\n",
      "INFO:tensorflow:C:\\Users\\MEGHAJ SINGH\\Desktop\\simple_chat_bot\\model.tflearn is not in all_model_checkpoint_paths. Manually adding it.\n"
     ]
    }
   ],
   "source": [
    "#training and saving the model\n",
    "model.fit(training, output, n_epoch=1000,batch_size=8, show_metric=True)\n",
    "model.save(\"model.tflearn\")"
   ]
  },
  {
   "cell_type": "code",
   "execution_count": null,
   "metadata": {},
   "outputs": [
    {
     "name": "stdout",
     "output_type": "stream",
     "text": [
      "Start talking with the bot (type quit to stop)!\n",
      "You: Hi\n",
      "Good to see you again!\n",
      "You: old?\n",
      "Good to see you again!\n",
      "You: why?\n",
      "Hello!\n",
      "You: what?\n",
      "Hi there, how can I help?\n",
      "You: i love it\n",
      "Hello!\n"
     ]
    }
   ],
   "source": [
    "#making predictions\n",
    "def bag_of_words(s,words):\n",
    "    bag=[0 for _ in range(len(words))]\n",
    "    \n",
    "    s_words=nltk.word_tokenize(s)\n",
    "    s_words=[stemmer.stem(word.lower()) for word in s_words]\n",
    "    \n",
    "    for se in s_words:\n",
    "        for i,w in enumerate(words):\n",
    "            if w==se:\n",
    "                bag[i]=1\n",
    "    return numpy.array(bag)\n",
    "\n",
    "def chat():\n",
    "    print(\"Start talking with the bot (type quit to stop)!\")\n",
    "    while True:\n",
    "        inp=input(\"You: \")\n",
    "        if inp.lower()==\"quit\":\n",
    "            break\n",
    "            \n",
    "        results=model.predict([bag_of_words(inp,words)])\n",
    "        results_index=numpy.argmax(results)\n",
    "        tag=labels[results_index]\n",
    "        \n",
    "        for tg in data[\"intents\"]:\n",
    "            if tg['tag']==tag:\n",
    "                responses=tg['responses']\n",
    "                \n",
    "        print(random.choice(responses))\n",
    "        \n",
    "chat()"
   ]
  },
  {
   "cell_type": "code",
   "execution_count": null,
   "metadata": {},
   "outputs": [],
   "source": []
  }
 ],
 "metadata": {
  "kernelspec": {
   "display_name": "Python 3",
   "language": "python",
   "name": "python3"
  },
  "language_info": {
   "codemirror_mode": {
    "name": "ipython",
    "version": 3
   },
   "file_extension": ".py",
   "mimetype": "text/x-python",
   "name": "python",
   "nbconvert_exporter": "python",
   "pygments_lexer": "ipython3",
   "version": "3.7.4"
  }
 },
 "nbformat": 4,
 "nbformat_minor": 2
}
